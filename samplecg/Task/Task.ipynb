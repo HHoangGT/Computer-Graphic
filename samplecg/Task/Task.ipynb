{
 "cells": [
  {
   "cell_type": "code",
   "execution_count": 151,
   "id": "initial_id",
   "metadata": {
    "collapsed": true,
    "ExecuteTime": {
     "end_time": "2024-04-09T06:25:46.877103Z",
     "start_time": "2024-04-09T06:25:46.873865Z"
    }
   },
   "outputs": [],
   "source": [
    "import numpy as np\n",
    "import matplotlib.pyplot as plt"
   ]
  },
  {
   "cell_type": "code",
   "outputs": [
    {
     "data": {
      "text/plain": "(600, 600, 3)"
     },
     "execution_count": 154,
     "metadata": {},
     "output_type": "execute_result"
    }
   ],
   "source": [
    "# create 600x600 zero matrix\n",
    "img = np.zeros((600, 600, 3))\n",
    "img.shape"
   ],
   "metadata": {
    "collapsed": false,
    "ExecuteTime": {
     "end_time": "2024-04-09T06:50:03.251457Z",
     "start_time": "2024-04-09T06:50:03.245520Z"
    }
   },
   "id": "4c283a6309c841bc",
   "execution_count": 154
  },
  {
   "cell_type": "code",
   "outputs": [],
   "source": [
    "# choose vertices of triangle A, B, C\n",
    "A = np.array((100, 100))\n",
    "B = np.array((500, 100))\n",
    "C = np.array((300, 500))  \n",
    "\n",
    "# Define the color of A, B, C using numpy array\n",
    "color_A = np.array((255, 0, 0))\n",
    "color_B = np.array((0, 255, 0))\n",
    "color_C = np.array((0, 0, 255))"
   ],
   "metadata": {
    "collapsed": false,
    "ExecuteTime": {
     "end_time": "2024-04-09T06:50:03.466457Z",
     "start_time": "2024-04-09T06:50:03.463969Z"
    }
   },
   "id": "9965f84d2b7ad452",
   "execution_count": 155
  },
  {
   "cell_type": "code",
   "outputs": [],
   "source": [
    "# calculate area of triangle ABC\n",
    "def area(a, b, c):\n",
    "    return 0.5 * abs(a[0] * b[1] + b[0] * c[1] + c[0] * a[1] - a[1] * b[0] - b[1] * c[0] - c[1] * a[0])"
   ],
   "metadata": {
    "collapsed": false,
    "ExecuteTime": {
     "end_time": "2024-04-09T06:50:03.807278Z",
     "start_time": "2024-04-09T06:50:03.805195Z"
    }
   },
   "id": "9c651ce7bdbcd54e",
   "execution_count": 156
  },
  {
   "cell_type": "code",
   "outputs": [],
   "source": [
    "def same_sign(a, b):\n",
    "    return np.all(np.logical_or(np.logical_and(a >= 0, b >= 0), np.logical_and(a < 0, b < 0)))\n",
    "\n",
    "\n",
    "def is_inside_triangle(p, a, b, c):\n",
    "    cp_1 = np.cross(c - a, p - a)\n",
    "    cp_2 = np.cross(b - a, p - a)\n",
    "    cp_3 = np.cross(c - b, p - b)\n",
    "    return same_sign(cp_1, cp_2) and same_sign(cp_2, cp_3)"
   ],
   "metadata": {
    "collapsed": false,
    "ExecuteTime": {
     "end_time": "2024-04-09T06:50:04.381545Z",
     "start_time": "2024-04-09T06:50:04.378970Z"
    }
   },
   "id": "6780c8279bade9d5",
   "execution_count": 157
  },
  {
   "cell_type": "code",
   "outputs": [
    {
     "name": "stdout",
     "output_type": "stream",
     "text": [
      "(360000, 2)\n",
      "[[  0   0]\n",
      " [  0   1]\n",
      " [  0   2]\n",
      " ...\n",
      " [599 597]\n",
      " [599 598]\n",
      " [599 599]]\n"
     ]
    }
   ],
   "source": [
    "# Create the array of all points in the triangle ABC using meshgrid\n",
    "points = np.array(np.meshgrid(range(600), range(600))).T.reshape(-1, 2)\n",
    "print(points.shape)\n",
    "print (points)"
   ],
   "metadata": {
    "collapsed": false,
    "ExecuteTime": {
     "end_time": "2024-04-09T06:50:05.038398Z",
     "start_time": "2024-04-09T06:50:05.030225Z"
    }
   },
   "id": "de72954b5cf68eb3",
   "execution_count": 158
  },
  {
   "cell_type": "code",
   "outputs": [],
   "source": [
    "# Calculate the color for each point in the triangle ABC not using for loop\n",
    "# for each point in the triangle, calculate the area of the three sub-triangles\n",
    "# and use the ratio of the area to calculate the color\n",
    "\n",
    "# calculate the area of the three sub-triangles\n",
    "area_ABC = area(A, B, C)\n",
    "area_APC = area(A, points, C)\n",
    "area_BPA = area(B, points, A)\n",
    "\n",
    "# calculate the ratio of the area\n",
    "ratio_A = area_APC / area_ABC\n",
    "ratio_B = area_BPA / area_ABC\n",
    "ratio_C = 1 - ratio_A - ratio_B\n",
    "\n",
    "# calculate the color for each point\n",
    "color = color_A * ratio_A[:, None] + color_B * ratio_B[:, None] + color_C * ratio_C[:, None]\n"
   ],
   "metadata": {
    "collapsed": false,
    "ExecuteTime": {
     "end_time": "2024-04-09T06:50:05.822885Z",
     "start_time": "2024-04-09T06:50:05.819211Z"
    }
   },
   "id": "4d723e8e84e228ad",
   "execution_count": 159
  },
  {
   "cell_type": "code",
   "outputs": [
    {
     "data": {
      "text/plain": "<Figure size 640x480 with 1 Axes>",
      "image/png": "[encoded data removed]"
     },
     "metadata": {},
     "output_type": "display_data"
    }
   ],
   "source": [
    "# using matplotlib to visualize img\n",
    "plt.imshow(img.astype(np.uint8))\n",
    "plt.show()"
   ],
   "metadata": {
    "collapsed": false,
    "ExecuteTime": {
     "end_time": "2024-04-09T06:50:06.686570Z",
     "start_time": "2024-04-09T06:50:06.614609Z"
    }
   },
   "id": "7c47fb2ee6c426ec",
   "execution_count": 160
  },
  {
   "cell_type": "code",
   "outputs": [],
   "source": [],
   "metadata": {
    "collapsed": false,
    "ExecuteTime": {
     "end_time": "2024-04-09T05:54:44.888389Z",
     "start_time": "2024-04-09T05:54:44.887Z"
    }
   },
   "id": "75040f5913efc8d4",
   "execution_count": 58
  }
 ],
 "metadata": {
  "kernelspec": {
   "display_name": "Python 3",
   "language": "python",
   "name": "python3"
  },
  "language_info": {
   "codemirror_mode": {
    "name": "ipython",
    "version": 2
   },
   "file_extension": ".py",
   "mimetype": "text/x-python",
   "name": "python",
   "nbconvert_exporter": "python",
   "pygments_lexer": "ipython2",
   "version": "2.7.6"
  }
 },
 "nbformat": 4,
 "nbformat_minor": 5
}
